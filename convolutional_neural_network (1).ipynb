{
 "cells": [
  {
   "cell_type": "markdown",
   "metadata": {
    "id": "3DR-eO17geWu"
   },
   "source": [
    "# Convolutional Neural Network"
   ]
  },
  {
   "cell_type": "markdown",
   "metadata": {
    "id": "EMefrVPCg-60"
   },
   "source": [
    "### Importing the libraries"
   ]
  },
  {
   "cell_type": "code",
   "execution_count": 1,
   "metadata": {
    "id": "sCV30xyVhFbE"
   },
   "outputs": [],
   "source": [
    "import tensorflow as tf\n",
    "from keras.preprocessing.image import ImageDataGenerator"
   ]
  },
  {
   "cell_type": "code",
   "execution_count": 2,
   "metadata": {
    "colab": {
     "base_uri": "https://localhost:8080/",
     "height": 35
    },
    "id": "FIleuCAjoFD8",
    "outputId": "dc2a6ca1-3183-458e-9d73-0591340492e7"
   },
   "outputs": [
    {
     "data": {
      "text/plain": [
       "'2.7.0'"
      ]
     },
     "execution_count": 2,
     "metadata": {},
     "output_type": "execute_result"
    }
   ],
   "source": [
    "tf.__version__"
   ]
  },
  {
   "cell_type": "markdown",
   "metadata": {
    "id": "oxQxCBWyoGPE"
   },
   "source": [
    "## Part 1 - Data Preprocessing"
   ]
  },
  {
   "cell_type": "markdown",
   "metadata": {
    "id": "MvE-heJNo3GG"
   },
   "source": [
    "### Preprocessing the Training set"
   ]
  },
  {
   "cell_type": "code",
   "execution_count": 3,
   "metadata": {
    "colab": {
     "base_uri": "https://localhost:8080/",
     "height": 471
    },
    "id": "0koUcJMJpEBD",
    "outputId": "ab61f997-1109-4af1-ed9a-ef08fce9cd8e"
   },
   "outputs": [
    {
     "name": "stdout",
     "output_type": "stream",
     "text": [
      "Found 8000 images belonging to 2 classes.\n"
     ]
    }
   ],
   "source": [
    "train_datagen = ImageDataGenerator(rescale = 1./255,\n",
    "                                   shear_range = 0.2,\n",
    "                                   zoom_range = 0.2,\n",
    "                                   horizontal_flip = True)\n",
    "training_set = train_datagen.flow_from_directory('dataset/training_set',\n",
    "                                                 target_size = (64, 64),\n",
    "                                                 batch_size = 32,\n",
    "                                                 class_mode = 'binary')\n",
    "\n",
    "#transformation(zoom, rotate, etc) or augmentation is done on the images to avoid overfitting on training dataset so that we don't get bad performance on test dataset\n",
    "#ImageDataGenerator is a class that generates batches of tensor image data with real time data augmentation\n",
    "#train_datagen is the object of ImageDataGenerator class\n",
    "#feature scaling compulsary for neural networks"
   ]
  },
  {
   "cell_type": "markdown",
   "metadata": {
    "id": "mrCMmGw9pHys"
   },
   "source": [
    "### Preprocessing the Test set"
   ]
  },
  {
   "cell_type": "code",
   "execution_count": 4,
   "metadata": {
    "id": "SH4WzfOhpKc3"
   },
   "outputs": [
    {
     "name": "stdout",
     "output_type": "stream",
     "text": [
      "Found 2000 images belonging to 2 classes.\n"
     ]
    }
   ],
   "source": [
    "test_datagen = ImageDataGenerator(rescale = 1./255)\n",
    "test_set = test_datagen.flow_from_directory('dataset/test_set',\n",
    "                                            target_size = (64, 64),\n",
    "                                            batch_size = 32,\n",
    "                                            class_mode = 'binary')\n",
    "#transformation is not done on test data, only feature scaling should be done"
   ]
  },
  {
   "cell_type": "markdown",
   "metadata": {
    "id": "af8O4l90gk7B"
   },
   "source": [
    "## Part 2 - Building the CNN"
   ]
  },
  {
   "cell_type": "markdown",
   "metadata": {
    "id": "ces1gXY2lmoX"
   },
   "source": [
    "### Initialising the CNN"
   ]
  },
  {
   "cell_type": "code",
   "execution_count": 5,
   "metadata": {
    "id": "SAUt4UMPlhLS"
   },
   "outputs": [],
   "source": [
    "cnn = tf.keras.models.Sequential()\n",
    "#Sequential class that allows to build CNN instance(object) as sequential layers using models module in keras library"
   ]
  },
  {
   "cell_type": "markdown",
   "metadata": {
    "id": "u5YJj_XMl5LF"
   },
   "source": [
    "### Step 1 - Convolution"
   ]
  },
  {
   "cell_type": "code",
   "execution_count": 6,
   "metadata": {
    "id": "XPzPrMckl-hV"
   },
   "outputs": [],
   "source": [
    "cnn.add(tf.keras.layers.Conv2D(filters=32, kernel_size=3, activation='relu', input_shape=[64, 64, 3]))\n",
    "#Conv2D is a class\n",
    "#classic number of filters(feature detectors) is 32, kernel_size is 3 as filter is 3 by 3 square matrix, 64 by 64 is image size, 3 is for RGB\n",
    "#mostly rectifier activation function(relu) is used in hidden layer for CNN"
   ]
  },
  {
   "cell_type": "markdown",
   "metadata": {
    "id": "tf87FpvxmNOJ"
   },
   "source": [
    "### Step 2 - Pooling"
   ]
  },
  {
   "cell_type": "code",
   "execution_count": 7,
   "metadata": {
    "id": "ncpqPl69mOac"
   },
   "outputs": [],
   "source": [
    "cnn.add(tf.keras.layers.MaxPool2D(pool_size=2, strides=2))\n",
    "#pool_size is the frame used for max pooling, strides is the number of pixels by which frame is slided right"
   ]
  },
  {
   "cell_type": "markdown",
   "metadata": {
    "id": "xaTOgD8rm4mU"
   },
   "source": [
    "### Adding a second convolutional layer"
   ]
  },
  {
   "cell_type": "code",
   "execution_count": 8,
   "metadata": {
    "id": "i_-FZjn_m8gk"
   },
   "outputs": [],
   "source": [
    "cnn.add(tf.keras.layers.Conv2D(filters=32, kernel_size=3, activation='relu'))#no need to add input_shape as parameter again\n",
    "cnn.add(tf.keras.layers.MaxPool2D(pool_size=2, strides=2)) "
   ]
  },
  {
   "cell_type": "markdown",
   "metadata": {
    "id": "tmiEuvTunKfk"
   },
   "source": [
    "### Step 3 - Flattening"
   ]
  },
  {
   "cell_type": "code",
   "execution_count": 9,
   "metadata": {
    "id": "6AZeOGCvnNZn"
   },
   "outputs": [],
   "source": [
    "cnn.add(tf.keras.layers.Flatten())"
   ]
  },
  {
   "cell_type": "markdown",
   "metadata": {
    "id": "dAoSECOm203v"
   },
   "source": [
    "### Step 4 - Full Connection"
   ]
  },
  {
   "cell_type": "code",
   "execution_count": 10,
   "metadata": {
    "id": "8GtmUlLd26Nq"
   },
   "outputs": [],
   "source": [
    "cnn.add(tf.keras.layers.Dense(units=128, activation='relu'))\n",
    "#use Dense class for fully connected layer\n",
    "#128 units is number of neurons"
   ]
  },
  {
   "cell_type": "markdown",
   "metadata": {
    "id": "yTldFvbX28Na"
   },
   "source": [
    "### Step 5 - Output Layer"
   ]
  },
  {
   "cell_type": "code",
   "execution_count": 11,
   "metadata": {
    "id": "1p_Zj1Mc3Ko_"
   },
   "outputs": [],
   "source": [
    "cnn.add(tf.keras.layers.Dense(units=1, activation='sigmoid'))\n",
    "#1 unit means a binary classification\n",
    "#mostly sigmoid activation function is used in output layer for CNN(for binary classification)"
   ]
  },
  {
   "cell_type": "markdown",
   "metadata": {
    "id": "D6XkI90snSDl"
   },
   "source": [
    "## Part 3 - Training the CNN"
   ]
  },
  {
   "cell_type": "markdown",
   "metadata": {
    "id": "vfrFQACEnc6i"
   },
   "source": [
    "### Compiling the CNN"
   ]
  },
  {
   "cell_type": "code",
   "execution_count": 12,
   "metadata": {
    "id": "NALksrNQpUlJ"
   },
   "outputs": [],
   "source": [
    "cnn.compile(optimizer = 'adam', loss = 'binary_crossentropy', metrics = ['accuracy'])"
   ]
  },
  {
   "cell_type": "markdown",
   "metadata": {
    "id": "ehS-v3MIpX2h"
   },
   "source": [
    "### Training the CNN on the Training set and evaluating it on the Test set"
   ]
  },
  {
   "cell_type": "code",
   "execution_count": 13,
   "metadata": {
    "id": "XUj1W4PJptta"
   },
   "outputs": [
    {
     "name": "stdout",
     "output_type": "stream",
     "text": [
      "Epoch 1/25\n",
      "250/250 [==============================] - 206s 818ms/step - loss: 0.6848 - accuracy: 0.5534 - val_loss: 0.6275 - val_accuracy: 0.6470\n",
      "Epoch 2/25\n",
      "250/250 [==============================] - 91s 363ms/step - loss: 0.6103 - accuracy: 0.6659 - val_loss: 0.5573 - val_accuracy: 0.7245\n",
      "Epoch 3/25\n",
      "250/250 [==============================] - 92s 368ms/step - loss: 0.5668 - accuracy: 0.7013 - val_loss: 0.5360 - val_accuracy: 0.7280\n",
      "Epoch 4/25\n",
      "250/250 [==============================] - 92s 369ms/step - loss: 0.5435 - accuracy: 0.7184 - val_loss: 0.5202 - val_accuracy: 0.7400\n",
      "Epoch 5/25\n",
      "250/250 [==============================] - 91s 365ms/step - loss: 0.5146 - accuracy: 0.7439 - val_loss: 0.4905 - val_accuracy: 0.7625\n",
      "Epoch 6/25\n",
      "250/250 [==============================] - 92s 367ms/step - loss: 0.4965 - accuracy: 0.7511 - val_loss: 0.5203 - val_accuracy: 0.7415\n",
      "Epoch 7/25\n",
      "250/250 [==============================] - 93s 372ms/step - loss: 0.4807 - accuracy: 0.7660 - val_loss: 0.4709 - val_accuracy: 0.7780\n",
      "Epoch 8/25\n",
      "250/250 [==============================] - 92s 367ms/step - loss: 0.4637 - accuracy: 0.7857 - val_loss: 0.4902 - val_accuracy: 0.7680\n",
      "Epoch 9/25\n",
      "250/250 [==============================] - 92s 366ms/step - loss: 0.4488 - accuracy: 0.7868 - val_loss: 0.4553 - val_accuracy: 0.7850\n",
      "Epoch 10/25\n",
      "250/250 [==============================] - 92s 368ms/step - loss: 0.4387 - accuracy: 0.7931 - val_loss: 0.4727 - val_accuracy: 0.7890\n",
      "Epoch 11/25\n",
      "250/250 [==============================] - 93s 372ms/step - loss: 0.4162 - accuracy: 0.8084 - val_loss: 0.4380 - val_accuracy: 0.7970\n",
      "Epoch 12/25\n",
      "250/250 [==============================] - 90s 360ms/step - loss: 0.4065 - accuracy: 0.8180 - val_loss: 0.4379 - val_accuracy: 0.8145\n",
      "Epoch 13/25\n",
      "250/250 [==============================] - 91s 365ms/step - loss: 0.4008 - accuracy: 0.8108 - val_loss: 0.4556 - val_accuracy: 0.7995\n",
      "Epoch 14/25\n",
      "250/250 [==============================] - 92s 367ms/step - loss: 0.3818 - accuracy: 0.8301 - val_loss: 0.4537 - val_accuracy: 0.8020\n",
      "Epoch 15/25\n",
      "250/250 [==============================] - 93s 370ms/step - loss: 0.3679 - accuracy: 0.8306 - val_loss: 0.4492 - val_accuracy: 0.8105\n",
      "Epoch 16/25\n",
      "250/250 [==============================] - 91s 364ms/step - loss: 0.3473 - accuracy: 0.8444 - val_loss: 0.4597 - val_accuracy: 0.7990\n",
      "Epoch 17/25\n",
      "250/250 [==============================] - 91s 366ms/step - loss: 0.3320 - accuracy: 0.8529 - val_loss: 0.4933 - val_accuracy: 0.8070\n",
      "Epoch 18/25\n",
      "250/250 [==============================] - 99s 394ms/step - loss: 0.3201 - accuracy: 0.8599 - val_loss: 0.4731 - val_accuracy: 0.8120\n",
      "Epoch 19/25\n",
      "250/250 [==============================] - 94s 375ms/step - loss: 0.2983 - accuracy: 0.8690 - val_loss: 0.4764 - val_accuracy: 0.8140\n",
      "Epoch 20/25\n",
      "250/250 [==============================] - 95s 378ms/step - loss: 0.2904 - accuracy: 0.8739 - val_loss: 0.5107 - val_accuracy: 0.8040\n",
      "Epoch 21/25\n",
      "250/250 [==============================] - 95s 381ms/step - loss: 0.2814 - accuracy: 0.8789 - val_loss: 0.5487 - val_accuracy: 0.7965\n",
      "Epoch 22/25\n",
      "250/250 [==============================] - 95s 378ms/step - loss: 0.2707 - accuracy: 0.8863 - val_loss: 0.5046 - val_accuracy: 0.8155\n",
      "Epoch 23/25\n",
      "250/250 [==============================] - 95s 380ms/step - loss: 0.2538 - accuracy: 0.8914 - val_loss: 0.5093 - val_accuracy: 0.8045\n",
      "Epoch 24/25\n",
      "250/250 [==============================] - 93s 373ms/step - loss: 0.2440 - accuracy: 0.8989 - val_loss: 0.5463 - val_accuracy: 0.8015\n",
      "Epoch 25/25\n",
      "250/250 [==============================] - 95s 381ms/step - loss: 0.2203 - accuracy: 0.9085 - val_loss: 0.5363 - val_accuracy: 0.8105\n"
     ]
    },
    {
     "data": {
      "text/plain": [
       "<keras.callbacks.History at 0x24758ad3670>"
      ]
     },
     "execution_count": 13,
     "metadata": {},
     "output_type": "execute_result"
    }
   ],
   "source": [
    "cnn.fit(x = training_set, validation_data = test_set, epochs = 25)"
   ]
  },
  {
   "cell_type": "markdown",
   "metadata": {
    "id": "U3PZasO0006Z"
   },
   "source": [
    "## Part 4 - Making a single prediction"
   ]
  },
  {
   "cell_type": "code",
   "execution_count": 14,
   "metadata": {
    "id": "gsSiWEJY1BPB"
   },
   "outputs": [],
   "source": [
    "import numpy as np\n",
    "from keras.preprocessing import image\n",
    "test_image = image.load_img('dataset/single_prediction/cat_or_dog_1.jpg', target_size = (64, 64)) #input image should be of same size as that of training images size\n",
    "test_image = image.img_to_array(test_image) #predict methos expects array as input, so convert pil image to numpy array\n",
    "test_image = np.expand_dims(test_image, axis = 0) #adding extra dimension for the batch to which image belongs, dimension of added batch is 1st\n",
    "result = cnn.predict(test_image/255.0) #normalizing the image\n",
    "training_set.class_indices #to know that dog is 1 and cat is 0\n",
    "if result[0][0] > 0.5: #result also has dimensions of test_image\n",
    "  prediction = 'dog'\n",
    "else:\n",
    "  prediction = 'cat'"
   ]
  },
  {
   "cell_type": "code",
   "execution_count": 15,
   "metadata": {
    "id": "ED9KB3I54c1i"
   },
   "outputs": [
    {
     "name": "stdout",
     "output_type": "stream",
     "text": [
      "dog\n"
     ]
    }
   ],
   "source": [
    "print(prediction)"
   ]
  },
  {
   "cell_type": "code",
   "execution_count": null,
   "metadata": {},
   "outputs": [],
   "source": []
  }
 ],
 "metadata": {
  "colab": {
   "collapsed_sections": [],
   "name": "convolutional_neural_network.ipynb",
   "provenance": []
  },
  "kernelspec": {
   "display_name": "Python 3",
   "language": "python",
   "name": "python3"
  },
  "language_info": {
   "codemirror_mode": {
    "name": "ipython",
    "version": 3
   },
   "file_extension": ".py",
   "mimetype": "text/x-python",
   "name": "python",
   "nbconvert_exporter": "python",
   "pygments_lexer": "ipython3",
   "version": "3.8.3"
  }
 },
 "nbformat": 4,
 "nbformat_minor": 1
}
